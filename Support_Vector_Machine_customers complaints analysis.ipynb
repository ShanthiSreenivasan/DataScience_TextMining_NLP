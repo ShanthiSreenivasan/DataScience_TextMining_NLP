{
 "cells": [
  {
   "cell_type": "code",
   "execution_count": 1,
   "metadata": {},
   "outputs": [],
   "source": [
    "import numpy as np\n",
    "import matplotlib.pyplot as plt\n",
    "from sklearn.feature_extraction.text import TfidfVectorizer\n",
    "from sklearn.model_selection import train_test_split\n",
    "from sklearn.feature_extraction.text import TfidfTransformer\n",
    "from sklearn.svm import LinearSVC  # Linear Support Vector Classifier\n",
    "from sklearn.model_selection import cross_val_score, GridSearchCV  # Hyper parameter Tuning\n",
    "from sklearn.metrics import confusion_matrix  \n",
    "#from sklearn import metrics"
   ]
  },
  {
   "cell_type": "code",
   "execution_count": 2,
   "metadata": {},
   "outputs": [],
   "source": [
    "import pandas as pd"
   ]
  },
  {
   "cell_type": "code",
   "execution_count": 3,
   "metadata": {},
   "outputs": [
    {
     "name": "stderr",
     "output_type": "stream",
     "text": [
      "C:\\Users\\anparash\\Anaconda3\\lib\\site-packages\\IPython\\core\\interactiveshell.py:3165: DtypeWarning: Columns (5,6,11,16) have mixed types.Specify dtype option on import or set low_memory=False.\n",
      "  has_raised = await self.run_ast_nodes(code_ast.body, cell_name,\n"
     ]
    }
   ],
   "source": [
    "# Data Source - https://catalog.data.gov/dataset/consumer-complaint-database  [ Public dataset]\n",
    "df = pd.read_csv('C:/JS/Support_Vector_Machine/Consumer_Complaints.csv')"
   ]
  },
  {
   "cell_type": "code",
   "execution_count": 4,
   "metadata": {},
   "outputs": [
    {
     "data": {
      "text/plain": [
       "(1359973, 18)"
      ]
     },
     "execution_count": 4,
     "metadata": {},
     "output_type": "execute_result"
    }
   ],
   "source": [
    "df.shape  # 1.3 M records and 18 columns "
   ]
  },
  {
   "cell_type": "code",
   "execution_count": 10,
   "metadata": {},
   "outputs": [
    {
     "data": {
      "text/html": [
       "<div>\n",
       "<style scoped>\n",
       "    .dataframe tbody tr th:only-of-type {\n",
       "        vertical-align: middle;\n",
       "    }\n",
       "\n",
       "    .dataframe tbody tr th {\n",
       "        vertical-align: top;\n",
       "    }\n",
       "\n",
       "    .dataframe thead th {\n",
       "        text-align: right;\n",
       "    }\n",
       "</style>\n",
       "<table border=\"1\" class=\"dataframe\">\n",
       "  <thead>\n",
       "    <tr style=\"text-align: right;\">\n",
       "      <th></th>\n",
       "      <th>Date received</th>\n",
       "      <th>Product</th>\n",
       "      <th>Sub-product</th>\n",
       "      <th>Issue</th>\n",
       "      <th>Sub-issue</th>\n",
       "      <th>Consumer complaint narrative</th>\n",
       "      <th>Company public response</th>\n",
       "      <th>Company</th>\n",
       "      <th>State</th>\n",
       "      <th>ZIP code</th>\n",
       "      <th>Tags</th>\n",
       "      <th>Consumer consent provided?</th>\n",
       "      <th>Submitted via</th>\n",
       "      <th>Date sent to company</th>\n",
       "      <th>Company response to consumer</th>\n",
       "      <th>Timely response?</th>\n",
       "      <th>Consumer disputed?</th>\n",
       "      <th>Complaint ID</th>\n",
       "    </tr>\n",
       "  </thead>\n",
       "  <tbody>\n",
       "    <tr>\n",
       "      <th>488562</th>\n",
       "      <td>09/18/2017</td>\n",
       "      <td>Mortgage</td>\n",
       "      <td>Conventional home mortgage</td>\n",
       "      <td>Closing on a mortgage</td>\n",
       "      <td>NaN</td>\n",
       "      <td>NaN</td>\n",
       "      <td>Company has responded to the consumer and the ...</td>\n",
       "      <td>BANK OF AMERICA, NATIONAL ASSOCIATION</td>\n",
       "      <td>GA</td>\n",
       "      <td>30036</td>\n",
       "      <td>NaN</td>\n",
       "      <td>Consent not provided</td>\n",
       "      <td>Web</td>\n",
       "      <td>09/18/2017</td>\n",
       "      <td>Closed with explanation</td>\n",
       "      <td>Yes</td>\n",
       "      <td>NaN</td>\n",
       "      <td>2677547</td>\n",
       "    </tr>\n",
       "    <tr>\n",
       "      <th>431529</th>\n",
       "      <td>12/13/2017</td>\n",
       "      <td>Credit reporting, credit repair services, or o...</td>\n",
       "      <td>Credit reporting</td>\n",
       "      <td>Problem with a credit reporting company's inve...</td>\n",
       "      <td>Their investigation did not fix an error on yo...</td>\n",
       "      <td>NaN</td>\n",
       "      <td>Company has responded to the consumer and the ...</td>\n",
       "      <td>TRANSUNION INTERMEDIATE HOLDINGS, INC.</td>\n",
       "      <td>CA</td>\n",
       "      <td>94605</td>\n",
       "      <td>NaN</td>\n",
       "      <td>Consent not provided</td>\n",
       "      <td>Web</td>\n",
       "      <td>12/13/2017</td>\n",
       "      <td>Closed with explanation</td>\n",
       "      <td>Yes</td>\n",
       "      <td>NaN</td>\n",
       "      <td>2754644</td>\n",
       "    </tr>\n",
       "    <tr>\n",
       "      <th>74116</th>\n",
       "      <td>05/06/2019</td>\n",
       "      <td>Debt collection</td>\n",
       "      <td>I do not know</td>\n",
       "      <td>Took or threatened to take negative or legal a...</td>\n",
       "      <td>Threatened to sue you for very old debt</td>\n",
       "      <td>After repeated calls with no company name give...</td>\n",
       "      <td>NaN</td>\n",
       "      <td>Sunset Solutions Group, LLC</td>\n",
       "      <td>TN</td>\n",
       "      <td>NaN</td>\n",
       "      <td>NaN</td>\n",
       "      <td>Consent provided</td>\n",
       "      <td>Web</td>\n",
       "      <td>05/06/2019</td>\n",
       "      <td>Untimely response</td>\n",
       "      <td>No</td>\n",
       "      <td>NaN</td>\n",
       "      <td>3233427</td>\n",
       "    </tr>\n",
       "    <tr>\n",
       "      <th>169920</th>\n",
       "      <td>12/19/2018</td>\n",
       "      <td>Checking or savings account</td>\n",
       "      <td>Checking account</td>\n",
       "      <td>Managing an account</td>\n",
       "      <td>Problem making or receiving payments</td>\n",
       "      <td>NaN</td>\n",
       "      <td>Company has responded to the consumer and the ...</td>\n",
       "      <td>REGIONS FINANCIAL CORPORATION</td>\n",
       "      <td>SC</td>\n",
       "      <td>29414</td>\n",
       "      <td>Servicemember</td>\n",
       "      <td>Consent not provided</td>\n",
       "      <td>Web</td>\n",
       "      <td>12/19/2018</td>\n",
       "      <td>Closed with monetary relief</td>\n",
       "      <td>Yes</td>\n",
       "      <td>NaN</td>\n",
       "      <td>3104906</td>\n",
       "    </tr>\n",
       "    <tr>\n",
       "      <th>219503</th>\n",
       "      <td>10/05/2018</td>\n",
       "      <td>Credit reporting, credit repair services, or o...</td>\n",
       "      <td>Credit reporting</td>\n",
       "      <td>Incorrect information on your report</td>\n",
       "      <td>Account status incorrect</td>\n",
       "      <td>Complaint : XXXX mortgage company has erroneou...</td>\n",
       "      <td>Company has responded to the consumer and the ...</td>\n",
       "      <td>Experian Information Solutions Inc.</td>\n",
       "      <td>NC</td>\n",
       "      <td>283XX</td>\n",
       "      <td>Older American, Servicemember</td>\n",
       "      <td>Consent provided</td>\n",
       "      <td>Web</td>\n",
       "      <td>10/05/2018</td>\n",
       "      <td>Closed with explanation</td>\n",
       "      <td>Yes</td>\n",
       "      <td>NaN</td>\n",
       "      <td>3038430</td>\n",
       "    </tr>\n",
       "  </tbody>\n",
       "</table>\n",
       "</div>"
      ],
      "text/plain": [
       "       Date received                                            Product  \\\n",
       "488562    09/18/2017                                           Mortgage   \n",
       "431529    12/13/2017  Credit reporting, credit repair services, or o...   \n",
       "74116     05/06/2019                                    Debt collection   \n",
       "169920    12/19/2018                        Checking or savings account   \n",
       "219503    10/05/2018  Credit reporting, credit repair services, or o...   \n",
       "\n",
       "                       Sub-product  \\\n",
       "488562  Conventional home mortgage   \n",
       "431529            Credit reporting   \n",
       "74116                I do not know   \n",
       "169920            Checking account   \n",
       "219503            Credit reporting   \n",
       "\n",
       "                                                    Issue  \\\n",
       "488562                              Closing on a mortgage   \n",
       "431529  Problem with a credit reporting company's inve...   \n",
       "74116   Took or threatened to take negative or legal a...   \n",
       "169920                                Managing an account   \n",
       "219503               Incorrect information on your report   \n",
       "\n",
       "                                                Sub-issue  \\\n",
       "488562                                                NaN   \n",
       "431529  Their investigation did not fix an error on yo...   \n",
       "74116             Threatened to sue you for very old debt   \n",
       "169920               Problem making or receiving payments   \n",
       "219503                           Account status incorrect   \n",
       "\n",
       "                             Consumer complaint narrative  \\\n",
       "488562                                                NaN   \n",
       "431529                                                NaN   \n",
       "74116   After repeated calls with no company name give...   \n",
       "169920                                                NaN   \n",
       "219503  Complaint : XXXX mortgage company has erroneou...   \n",
       "\n",
       "                                  Company public response  \\\n",
       "488562  Company has responded to the consumer and the ...   \n",
       "431529  Company has responded to the consumer and the ...   \n",
       "74116                                                 NaN   \n",
       "169920  Company has responded to the consumer and the ...   \n",
       "219503  Company has responded to the consumer and the ...   \n",
       "\n",
       "                                       Company State ZIP code  \\\n",
       "488562   BANK OF AMERICA, NATIONAL ASSOCIATION    GA    30036   \n",
       "431529  TRANSUNION INTERMEDIATE HOLDINGS, INC.    CA    94605   \n",
       "74116              Sunset Solutions Group, LLC    TN      NaN   \n",
       "169920           REGIONS FINANCIAL CORPORATION    SC    29414   \n",
       "219503     Experian Information Solutions Inc.    NC    283XX   \n",
       "\n",
       "                                 Tags Consumer consent provided?  \\\n",
       "488562                            NaN       Consent not provided   \n",
       "431529                            NaN       Consent not provided   \n",
       "74116                             NaN           Consent provided   \n",
       "169920                  Servicemember       Consent not provided   \n",
       "219503  Older American, Servicemember           Consent provided   \n",
       "\n",
       "       Submitted via Date sent to company Company response to consumer  \\\n",
       "488562           Web           09/18/2017      Closed with explanation   \n",
       "431529           Web           12/13/2017      Closed with explanation   \n",
       "74116            Web           05/06/2019            Untimely response   \n",
       "169920           Web           12/19/2018  Closed with monetary relief   \n",
       "219503           Web           10/05/2018      Closed with explanation   \n",
       "\n",
       "       Timely response? Consumer disputed?  Complaint ID  \n",
       "488562              Yes                NaN       2677547  \n",
       "431529              Yes                NaN       2754644  \n",
       "74116                No                NaN       3233427  \n",
       "169920              Yes                NaN       3104906  \n",
       "219503              Yes                NaN       3038430  "
      ]
     },
     "execution_count": 10,
     "metadata": {},
     "output_type": "execute_result"
    }
   ],
   "source": [
    "df.head()  # Consumer complaint narrative \n",
    "df.sample(5)"
   ]
  },
  {
   "cell_type": "code",
   "execution_count": 12,
   "metadata": {},
   "outputs": [
    {
     "data": {
      "text/html": [
       "<div>\n",
       "<style scoped>\n",
       "    .dataframe tbody tr th:only-of-type {\n",
       "        vertical-align: middle;\n",
       "    }\n",
       "\n",
       "    .dataframe tbody tr th {\n",
       "        vertical-align: top;\n",
       "    }\n",
       "\n",
       "    .dataframe thead th {\n",
       "        text-align: right;\n",
       "    }\n",
       "</style>\n",
       "<table border=\"1\" class=\"dataframe\">\n",
       "  <thead>\n",
       "    <tr style=\"text-align: right;\">\n",
       "      <th></th>\n",
       "      <th>510127</th>\n",
       "      <th>676446</th>\n",
       "    </tr>\n",
       "  </thead>\n",
       "  <tbody>\n",
       "    <tr>\n",
       "      <th>Date received</th>\n",
       "      <td>08/26/2017</td>\n",
       "      <td>12/06/2016</td>\n",
       "    </tr>\n",
       "    <tr>\n",
       "      <th>Product</th>\n",
       "      <td>Credit card or prepaid card</td>\n",
       "      <td>Credit card</td>\n",
       "    </tr>\n",
       "    <tr>\n",
       "      <th>Sub-product</th>\n",
       "      <td>General-purpose credit card or charge card</td>\n",
       "      <td>NaN</td>\n",
       "    </tr>\n",
       "    <tr>\n",
       "      <th>Issue</th>\n",
       "      <td>Problem with a purchase shown on your statement</td>\n",
       "      <td>Late fee</td>\n",
       "    </tr>\n",
       "    <tr>\n",
       "      <th>Sub-issue</th>\n",
       "      <td>Credit card company isn't resolving a dispute ...</td>\n",
       "      <td>NaN</td>\n",
       "    </tr>\n",
       "    <tr>\n",
       "      <th>Consumer complaint narrative</th>\n",
       "      <td>I contacted Netspend regarding unauthorized ch...</td>\n",
       "      <td>NaN</td>\n",
       "    </tr>\n",
       "    <tr>\n",
       "      <th>Company public response</th>\n",
       "      <td>Company has responded to the consumer and the ...</td>\n",
       "      <td>Company has responded to the consumer and the ...</td>\n",
       "    </tr>\n",
       "    <tr>\n",
       "      <th>Company</th>\n",
       "      <td>NETSPEND CORPORATION</td>\n",
       "      <td>BARCLAYS BANK DELAWARE</td>\n",
       "    </tr>\n",
       "    <tr>\n",
       "      <th>State</th>\n",
       "      <td>TX</td>\n",
       "      <td>NY</td>\n",
       "    </tr>\n",
       "    <tr>\n",
       "      <th>ZIP code</th>\n",
       "      <td>770XX</td>\n",
       "      <td>11701</td>\n",
       "    </tr>\n",
       "    <tr>\n",
       "      <th>Tags</th>\n",
       "      <td>Servicemember</td>\n",
       "      <td>Older American</td>\n",
       "    </tr>\n",
       "    <tr>\n",
       "      <th>Consumer consent provided?</th>\n",
       "      <td>Consent provided</td>\n",
       "      <td>NaN</td>\n",
       "    </tr>\n",
       "    <tr>\n",
       "      <th>Submitted via</th>\n",
       "      <td>Web</td>\n",
       "      <td>Phone</td>\n",
       "    </tr>\n",
       "    <tr>\n",
       "      <th>Date sent to company</th>\n",
       "      <td>08/26/2017</td>\n",
       "      <td>12/06/2016</td>\n",
       "    </tr>\n",
       "    <tr>\n",
       "      <th>Company response to consumer</th>\n",
       "      <td>Closed with explanation</td>\n",
       "      <td>Closed with explanation</td>\n",
       "    </tr>\n",
       "    <tr>\n",
       "      <th>Timely response?</th>\n",
       "      <td>Yes</td>\n",
       "      <td>Yes</td>\n",
       "    </tr>\n",
       "    <tr>\n",
       "      <th>Consumer disputed?</th>\n",
       "      <td>NaN</td>\n",
       "      <td>No</td>\n",
       "    </tr>\n",
       "    <tr>\n",
       "      <th>Complaint ID</th>\n",
       "      <td>2651433</td>\n",
       "      <td>2237613</td>\n",
       "    </tr>\n",
       "  </tbody>\n",
       "</table>\n",
       "</div>"
      ],
      "text/plain": [
       "                                                                         510127  \\\n",
       "Date received                                                        08/26/2017   \n",
       "Product                                             Credit card or prepaid card   \n",
       "Sub-product                          General-purpose credit card or charge card   \n",
       "Issue                           Problem with a purchase shown on your statement   \n",
       "Sub-issue                     Credit card company isn't resolving a dispute ...   \n",
       "Consumer complaint narrative  I contacted Netspend regarding unauthorized ch...   \n",
       "Company public response       Company has responded to the consumer and the ...   \n",
       "Company                                                    NETSPEND CORPORATION   \n",
       "State                                                                        TX   \n",
       "ZIP code                                                                  770XX   \n",
       "Tags                                                              Servicemember   \n",
       "Consumer consent provided?                                     Consent provided   \n",
       "Submitted via                                                               Web   \n",
       "Date sent to company                                                 08/26/2017   \n",
       "Company response to consumer                            Closed with explanation   \n",
       "Timely response?                                                            Yes   \n",
       "Consumer disputed?                                                          NaN   \n",
       "Complaint ID                                                            2651433   \n",
       "\n",
       "                                                                         676446  \n",
       "Date received                                                        12/06/2016  \n",
       "Product                                                             Credit card  \n",
       "Sub-product                                                                 NaN  \n",
       "Issue                                                                  Late fee  \n",
       "Sub-issue                                                                   NaN  \n",
       "Consumer complaint narrative                                                NaN  \n",
       "Company public response       Company has responded to the consumer and the ...  \n",
       "Company                                                  BARCLAYS BANK DELAWARE  \n",
       "State                                                                        NY  \n",
       "ZIP code                                                                  11701  \n",
       "Tags                                                             Older American  \n",
       "Consumer consent provided?                                                  NaN  \n",
       "Submitted via                                                             Phone  \n",
       "Date sent to company                                                 12/06/2016  \n",
       "Company response to consumer                            Closed with explanation  \n",
       "Timely response?                                                            Yes  \n",
       "Consumer disputed?                                                           No  \n",
       "Complaint ID                                                            2237613  "
      ]
     },
     "execution_count": 12,
     "metadata": {},
     "output_type": "execute_result"
    }
   ],
   "source": [
    "df.sample(2).T # column is row "
   ]
  },
  {
   "cell_type": "code",
   "execution_count": 13,
   "metadata": {},
   "outputs": [],
   "source": [
    "# Create a new dataframe with only tow column Product and Consumer complaint narrative\n",
    "df1 = df[['Product', 'Consumer complaint narrative']]"
   ]
  },
  {
   "cell_type": "code",
   "execution_count": 15,
   "metadata": {},
   "outputs": [
    {
     "data": {
      "text/html": [
       "<div>\n",
       "<style scoped>\n",
       "    .dataframe tbody tr th:only-of-type {\n",
       "        vertical-align: middle;\n",
       "    }\n",
       "\n",
       "    .dataframe tbody tr th {\n",
       "        vertical-align: top;\n",
       "    }\n",
       "\n",
       "    .dataframe thead th {\n",
       "        text-align: right;\n",
       "    }\n",
       "</style>\n",
       "<table border=\"1\" class=\"dataframe\">\n",
       "  <thead>\n",
       "    <tr style=\"text-align: right;\">\n",
       "      <th></th>\n",
       "      <th>Product</th>\n",
       "      <th>Consumer complaint narrative</th>\n",
       "    </tr>\n",
       "  </thead>\n",
       "  <tbody>\n",
       "    <tr>\n",
       "      <th>1289726</th>\n",
       "      <td>Mortgage</td>\n",
       "      <td>NaN</td>\n",
       "    </tr>\n",
       "    <tr>\n",
       "      <th>649108</th>\n",
       "      <td>Mortgage</td>\n",
       "      <td>On XXXX XXXX, XXXX I mailed Qualified Written ...</td>\n",
       "    </tr>\n",
       "    <tr>\n",
       "      <th>755957</th>\n",
       "      <td>Mortgage</td>\n",
       "      <td>NaN</td>\n",
       "    </tr>\n",
       "    <tr>\n",
       "      <th>197813</th>\n",
       "      <td>Credit reporting, credit repair services, or o...</td>\n",
       "      <td>Public record of bankruptcy is showing on repo...</td>\n",
       "    </tr>\n",
       "    <tr>\n",
       "      <th>1161901</th>\n",
       "      <td>Mortgage</td>\n",
       "      <td>NaN</td>\n",
       "    </tr>\n",
       "  </tbody>\n",
       "</table>\n",
       "</div>"
      ],
      "text/plain": [
       "                                                   Product  \\\n",
       "1289726                                           Mortgage   \n",
       "649108                                            Mortgage   \n",
       "755957                                            Mortgage   \n",
       "197813   Credit reporting, credit repair services, or o...   \n",
       "1161901                                           Mortgage   \n",
       "\n",
       "                              Consumer complaint narrative  \n",
       "1289726                                                NaN  \n",
       "649108   On XXXX XXXX, XXXX I mailed Qualified Written ...  \n",
       "755957                                                 NaN  \n",
       "197813   Public record of bankruptcy is showing on repo...  \n",
       "1161901                                                NaN  "
      ]
     },
     "execution_count": 15,
     "metadata": {},
     "output_type": "execute_result"
    }
   ],
   "source": [
    "df1.sample(5)"
   ]
  },
  {
   "cell_type": "code",
   "execution_count": 16,
   "metadata": {},
   "outputs": [],
   "source": [
    "# Dataframe should have non  missing complaint narrative \n",
    "df1 = df1[pd.notnull(df1['Consumer complaint narrative'])]"
   ]
  },
  {
   "cell_type": "code",
   "execution_count": 18,
   "metadata": {},
   "outputs": [
    {
     "data": {
      "text/plain": [
       "(425204, 2)"
      ]
     },
     "execution_count": 18,
     "metadata": {},
     "output_type": "execute_result"
    }
   ],
   "source": [
    "# How many valid complaints are present\n",
    "df1.shape  # 425k valid complaint "
   ]
  },
  {
   "cell_type": "code",
   "execution_count": 22,
   "metadata": {},
   "outputs": [
    {
     "data": {
      "text/plain": [
       "31.3"
      ]
     },
     "execution_count": 22,
     "metadata": {},
     "output_type": "execute_result"
    }
   ],
   "source": [
    "# What precentage of overall population we have in df1 \n",
    "round((df1.shape[0]/len(df))*100,1)\n",
    "\n",
    "# 31.3% of all the population but 425 k records "
   ]
  },
  {
   "cell_type": "code",
   "execution_count": 24,
   "metadata": {},
   "outputs": [],
   "source": [
    "# Rename columns \n",
    "df1.columns = ['Product', 'Consumer_complaint']"
   ]
  },
  {
   "cell_type": "code",
   "execution_count": 25,
   "metadata": {},
   "outputs": [
    {
     "data": {
      "text/html": [
       "<div>\n",
       "<style scoped>\n",
       "    .dataframe tbody tr th:only-of-type {\n",
       "        vertical-align: middle;\n",
       "    }\n",
       "\n",
       "    .dataframe tbody tr th {\n",
       "        vertical-align: top;\n",
       "    }\n",
       "\n",
       "    .dataframe thead th {\n",
       "        text-align: right;\n",
       "    }\n",
       "</style>\n",
       "<table border=\"1\" class=\"dataframe\">\n",
       "  <thead>\n",
       "    <tr style=\"text-align: right;\">\n",
       "      <th></th>\n",
       "      <th>Product</th>\n",
       "      <th>Consumer_complaint</th>\n",
       "    </tr>\n",
       "  </thead>\n",
       "  <tbody>\n",
       "    <tr>\n",
       "      <th>1731</th>\n",
       "      <td>Credit reporting, credit repair services, or o...</td>\n",
       "      <td>I couldn't believe my credit report when I saw...</td>\n",
       "    </tr>\n",
       "    <tr>\n",
       "      <th>1735</th>\n",
       "      <td>Credit reporting, credit repair services, or o...</td>\n",
       "      <td>I did not sign up for an account with XXXX XXX...</td>\n",
       "    </tr>\n",
       "    <tr>\n",
       "      <th>1739</th>\n",
       "      <td>Credit reporting, credit repair services, or o...</td>\n",
       "      <td>I went to my bank to get a loan so I can help ...</td>\n",
       "    </tr>\n",
       "    <tr>\n",
       "      <th>1741</th>\n",
       "      <td>Credit reporting, credit repair services, or o...</td>\n",
       "      <td>I couldn't believe my credit report when I saw...</td>\n",
       "    </tr>\n",
       "    <tr>\n",
       "      <th>1747</th>\n",
       "      <td>Credit reporting, credit repair services, or o...</td>\n",
       "      <td>I went to my bank and the lady there talked me...</td>\n",
       "    </tr>\n",
       "  </tbody>\n",
       "</table>\n",
       "</div>"
      ],
      "text/plain": [
       "                                                Product  \\\n",
       "1731  Credit reporting, credit repair services, or o...   \n",
       "1735  Credit reporting, credit repair services, or o...   \n",
       "1739  Credit reporting, credit repair services, or o...   \n",
       "1741  Credit reporting, credit repair services, or o...   \n",
       "1747  Credit reporting, credit repair services, or o...   \n",
       "\n",
       "                                     Consumer_complaint  \n",
       "1731  I couldn't believe my credit report when I saw...  \n",
       "1735  I did not sign up for an account with XXXX XXX...  \n",
       "1739  I went to my bank to get a loan so I can help ...  \n",
       "1741  I couldn't believe my credit report when I saw...  \n",
       "1747  I went to my bank and the lady there talked me...  "
      ]
     },
     "execution_count": 25,
     "metadata": {},
     "output_type": "execute_result"
    }
   ],
   "source": [
    "df1.head()"
   ]
  },
  {
   "cell_type": "code",
   "execution_count": 27,
   "metadata": {},
   "outputs": [
    {
     "data": {
      "text/plain": [
       "array([['Credit reporting, credit repair services, or other personal consumer reports'],\n",
       "       ['Debt collection'],\n",
       "       ['Mortgage'],\n",
       "       ['Credit card or prepaid card'],\n",
       "       ['Vehicle loan or lease'],\n",
       "       ['Checking or savings account'],\n",
       "       ['Payday loan, title loan, or personal loan'],\n",
       "       ['Student loan'],\n",
       "       ['Money transfer, virtual currency, or money service'],\n",
       "       ['Bank account or service'],\n",
       "       ['Credit card'],\n",
       "       ['Credit reporting'],\n",
       "       ['Consumer Loan'],\n",
       "       ['Money transfers'],\n",
       "       ['Payday loan'],\n",
       "       ['Prepaid card'],\n",
       "       ['Other financial service'],\n",
       "       ['Virtual currency']], dtype=object)"
      ]
     },
     "execution_count": 27,
     "metadata": {},
     "output_type": "execute_result"
    }
   ],
   "source": [
    "# How many classes are there i.e how many different product names \n",
    "pd.DataFrame(df1.Product.unique()).values "
   ]
  },
  {
   "cell_type": "code",
   "execution_count": 32,
   "metadata": {},
   "outputs": [
    {
     "data": {
      "text/plain": [
       "18"
      ]
     },
     "execution_count": 32,
     "metadata": {},
     "output_type": "execute_result"
    }
   ],
   "source": [
    "# Count of unique values in Product column \n",
    "df1.Product.nunique()"
   ]
  },
  {
   "cell_type": "code",
   "execution_count": 33,
   "metadata": {},
   "outputs": [],
   "source": [
    "# Build model only on 100k records \n",
    "df2 = df1.sample(10000, random_state=1).copy()"
   ]
  },
  {
   "cell_type": "code",
   "execution_count": 34,
   "metadata": {},
   "outputs": [],
   "source": [
    "# Reduce the number of classes by eliminating redundant classes \n",
    "\n",
    "df2.replace({'Product': \n",
    "             {'Credit reporting, credit repair services, or other personal consumer reports':'Credit reporting, repair, or other', \n",
    "              'Credit reporting': 'Credit reporting, repair, or other',\n",
    "             'Credit card': 'Credit card or prepaid card',\n",
    "             'Prepaid card': 'Credit card or prepaid card',\n",
    "             'Payday loan': 'Payday loan, title loan, or personal loan',\n",
    "             'Money transfer': 'Money transfer, virtual currency, or money service',\n",
    "             'Virtual currency': 'Money transfer, virtual currency, or money service'}}, \n",
    "            inplace= True)"
   ]
  },
  {
   "cell_type": "code",
   "execution_count": 35,
   "metadata": {},
   "outputs": [
    {
     "data": {
      "text/html": [
       "<div>\n",
       "<style scoped>\n",
       "    .dataframe tbody tr th:only-of-type {\n",
       "        vertical-align: middle;\n",
       "    }\n",
       "\n",
       "    .dataframe tbody tr th {\n",
       "        vertical-align: top;\n",
       "    }\n",
       "\n",
       "    .dataframe thead th {\n",
       "        text-align: right;\n",
       "    }\n",
       "</style>\n",
       "<table border=\"1\" class=\"dataframe\">\n",
       "  <thead>\n",
       "    <tr style=\"text-align: right;\">\n",
       "      <th></th>\n",
       "      <th>0</th>\n",
       "    </tr>\n",
       "  </thead>\n",
       "  <tbody>\n",
       "    <tr>\n",
       "      <th>0</th>\n",
       "      <td>Credit reporting, repair, or other</td>\n",
       "    </tr>\n",
       "    <tr>\n",
       "      <th>1</th>\n",
       "      <td>Checking or savings account</td>\n",
       "    </tr>\n",
       "    <tr>\n",
       "      <th>2</th>\n",
       "      <td>Mortgage</td>\n",
       "    </tr>\n",
       "    <tr>\n",
       "      <th>3</th>\n",
       "      <td>Credit card or prepaid card</td>\n",
       "    </tr>\n",
       "    <tr>\n",
       "      <th>4</th>\n",
       "      <td>Payday loan, title loan, or personal loan</td>\n",
       "    </tr>\n",
       "    <tr>\n",
       "      <th>5</th>\n",
       "      <td>Consumer Loan</td>\n",
       "    </tr>\n",
       "    <tr>\n",
       "      <th>6</th>\n",
       "      <td>Debt collection</td>\n",
       "    </tr>\n",
       "    <tr>\n",
       "      <th>7</th>\n",
       "      <td>Student loan</td>\n",
       "    </tr>\n",
       "    <tr>\n",
       "      <th>8</th>\n",
       "      <td>Money transfers</td>\n",
       "    </tr>\n",
       "    <tr>\n",
       "      <th>9</th>\n",
       "      <td>Vehicle loan or lease</td>\n",
       "    </tr>\n",
       "    <tr>\n",
       "      <th>10</th>\n",
       "      <td>Bank account or service</td>\n",
       "    </tr>\n",
       "    <tr>\n",
       "      <th>11</th>\n",
       "      <td>Money transfer, virtual currency, or money ser...</td>\n",
       "    </tr>\n",
       "    <tr>\n",
       "      <th>12</th>\n",
       "      <td>Other financial service</td>\n",
       "    </tr>\n",
       "  </tbody>\n",
       "</table>\n",
       "</div>"
      ],
      "text/plain": [
       "                                                    0\n",
       "0                  Credit reporting, repair, or other\n",
       "1                         Checking or savings account\n",
       "2                                            Mortgage\n",
       "3                         Credit card or prepaid card\n",
       "4           Payday loan, title loan, or personal loan\n",
       "5                                       Consumer Loan\n",
       "6                                     Debt collection\n",
       "7                                        Student loan\n",
       "8                                     Money transfers\n",
       "9                               Vehicle loan or lease\n",
       "10                            Bank account or service\n",
       "11  Money transfer, virtual currency, or money ser...\n",
       "12                            Other financial service"
      ]
     },
     "execution_count": 35,
     "metadata": {},
     "output_type": "execute_result"
    }
   ],
   "source": [
    "pd.DataFrame(df2.Product.unique())   "
   ]
  },
  {
   "cell_type": "code",
   "execution_count": 36,
   "metadata": {},
   "outputs": [
    {
     "data": {
      "text/html": [
       "<div>\n",
       "<style scoped>\n",
       "    .dataframe tbody tr th:only-of-type {\n",
       "        vertical-align: middle;\n",
       "    }\n",
       "\n",
       "    .dataframe tbody tr th {\n",
       "        vertical-align: top;\n",
       "    }\n",
       "\n",
       "    .dataframe thead th {\n",
       "        text-align: right;\n",
       "    }\n",
       "</style>\n",
       "<table border=\"1\" class=\"dataframe\">\n",
       "  <thead>\n",
       "    <tr style=\"text-align: right;\">\n",
       "      <th></th>\n",
       "      <th>Product</th>\n",
       "      <th>Consumer_complaint</th>\n",
       "      <th>category_id</th>\n",
       "    </tr>\n",
       "  </thead>\n",
       "  <tbody>\n",
       "    <tr>\n",
       "      <th>136923</th>\n",
       "      <td>Credit reporting, repair, or other</td>\n",
       "      <td>there are 8 inquires from XXXX XXXX that I did...</td>\n",
       "      <td>0</td>\n",
       "    </tr>\n",
       "    <tr>\n",
       "      <th>555141</th>\n",
       "      <td>Credit reporting, repair, or other</td>\n",
       "      <td>I have been a victim of Identity Theft since X...</td>\n",
       "      <td>0</td>\n",
       "    </tr>\n",
       "    <tr>\n",
       "      <th>410364</th>\n",
       "      <td>Checking or savings account</td>\n",
       "      <td>UTTERLY disgusted with how Bank of America cho...</td>\n",
       "      <td>1</td>\n",
       "    </tr>\n",
       "    <tr>\n",
       "      <th>515245</th>\n",
       "      <td>Credit reporting, repair, or other</td>\n",
       "      <td>A XXXX XXXX was purchased in XX/XX/XXXX, the c...</td>\n",
       "      <td>0</td>\n",
       "    </tr>\n",
       "    <tr>\n",
       "      <th>632795</th>\n",
       "      <td>Mortgage</td>\n",
       "      <td>XXXX XXXX XXXX, XXXX, GA XXXX. My husband went...</td>\n",
       "      <td>2</td>\n",
       "    </tr>\n",
       "  </tbody>\n",
       "</table>\n",
       "</div>"
      ],
      "text/plain": [
       "                                   Product  \\\n",
       "136923  Credit reporting, repair, or other   \n",
       "555141  Credit reporting, repair, or other   \n",
       "410364         Checking or savings account   \n",
       "515245  Credit reporting, repair, or other   \n",
       "632795                            Mortgage   \n",
       "\n",
       "                                       Consumer_complaint  category_id  \n",
       "136923  there are 8 inquires from XXXX XXXX that I did...            0  \n",
       "555141  I have been a victim of Identity Theft since X...            0  \n",
       "410364  UTTERLY disgusted with how Bank of America cho...            1  \n",
       "515245  A XXXX XXXX was purchased in XX/XX/XXXX, the c...            0  \n",
       "632795  XXXX XXXX XXXX, XXXX, GA XXXX. My husband went...            2  "
      ]
     },
     "execution_count": 36,
     "metadata": {},
     "output_type": "execute_result"
    }
   ],
   "source": [
    "# Numeric represntation of product name\n",
    "\n",
    "df2['category_id'] = df2['Product'].factorize()[0]\n",
    "df2.head()"
   ]
  },
  {
   "cell_type": "code",
   "execution_count": null,
   "metadata": {},
   "outputs": [],
   "source": []
  },
  {
   "cell_type": "code",
   "execution_count": 37,
   "metadata": {},
   "outputs": [
    {
     "data": {
      "text/html": [
       "<div>\n",
       "<style scoped>\n",
       "    .dataframe tbody tr th:only-of-type {\n",
       "        vertical-align: middle;\n",
       "    }\n",
       "\n",
       "    .dataframe tbody tr th {\n",
       "        vertical-align: top;\n",
       "    }\n",
       "\n",
       "    .dataframe thead th {\n",
       "        text-align: right;\n",
       "    }\n",
       "</style>\n",
       "<table border=\"1\" class=\"dataframe\">\n",
       "  <thead>\n",
       "    <tr style=\"text-align: right;\">\n",
       "      <th></th>\n",
       "      <th>Product</th>\n",
       "      <th>category_id</th>\n",
       "    </tr>\n",
       "  </thead>\n",
       "  <tbody>\n",
       "    <tr>\n",
       "      <th>136923</th>\n",
       "      <td>Credit reporting, repair, or other</td>\n",
       "      <td>0</td>\n",
       "    </tr>\n",
       "    <tr>\n",
       "      <th>410364</th>\n",
       "      <td>Checking or savings account</td>\n",
       "      <td>1</td>\n",
       "    </tr>\n",
       "    <tr>\n",
       "      <th>632795</th>\n",
       "      <td>Mortgage</td>\n",
       "      <td>2</td>\n",
       "    </tr>\n",
       "    <tr>\n",
       "      <th>604611</th>\n",
       "      <td>Credit card or prepaid card</td>\n",
       "      <td>3</td>\n",
       "    </tr>\n",
       "    <tr>\n",
       "      <th>792792</th>\n",
       "      <td>Payday loan, title loan, or personal loan</td>\n",
       "      <td>4</td>\n",
       "    </tr>\n",
       "    <tr>\n",
       "      <th>592526</th>\n",
       "      <td>Consumer Loan</td>\n",
       "      <td>5</td>\n",
       "    </tr>\n",
       "    <tr>\n",
       "      <th>940536</th>\n",
       "      <td>Debt collection</td>\n",
       "      <td>6</td>\n",
       "    </tr>\n",
       "    <tr>\n",
       "      <th>440880</th>\n",
       "      <td>Student loan</td>\n",
       "      <td>7</td>\n",
       "    </tr>\n",
       "    <tr>\n",
       "      <th>758322</th>\n",
       "      <td>Money transfers</td>\n",
       "      <td>8</td>\n",
       "    </tr>\n",
       "    <tr>\n",
       "      <th>220702</th>\n",
       "      <td>Vehicle loan or lease</td>\n",
       "      <td>9</td>\n",
       "    </tr>\n",
       "    <tr>\n",
       "      <th>741966</th>\n",
       "      <td>Bank account or service</td>\n",
       "      <td>10</td>\n",
       "    </tr>\n",
       "    <tr>\n",
       "      <th>338453</th>\n",
       "      <td>Money transfer, virtual currency, or money ser...</td>\n",
       "      <td>11</td>\n",
       "    </tr>\n",
       "    <tr>\n",
       "      <th>832054</th>\n",
       "      <td>Other financial service</td>\n",
       "      <td>12</td>\n",
       "    </tr>\n",
       "  </tbody>\n",
       "</table>\n",
       "</div>"
      ],
      "text/plain": [
       "                                                  Product  category_id\n",
       "136923                 Credit reporting, repair, or other            0\n",
       "410364                        Checking or savings account            1\n",
       "632795                                           Mortgage            2\n",
       "604611                        Credit card or prepaid card            3\n",
       "792792          Payday loan, title loan, or personal loan            4\n",
       "592526                                      Consumer Loan            5\n",
       "940536                                    Debt collection            6\n",
       "440880                                       Student loan            7\n",
       "758322                                    Money transfers            8\n",
       "220702                              Vehicle loan or lease            9\n",
       "741966                            Bank account or service           10\n",
       "338453  Money transfer, virtual currency, or money ser...           11\n",
       "832054                            Other financial service           12"
      ]
     },
     "execution_count": 37,
     "metadata": {},
     "output_type": "execute_result"
    }
   ],
   "source": [
    "# What is the category id of each produc \n",
    "category_id_df = df2[['Product', 'category_id']].drop_duplicates()\n",
    "category_id_df"
   ]
  },
  {
   "cell_type": "code",
   "execution_count": 38,
   "metadata": {},
   "outputs": [],
   "source": [
    "# Because model will predict category id \n",
    "# We need a function to derive product from category id \n",
    "\n",
    "category_to_id = dict(category_id_df.values)\n",
    "id_to_category = dict(category_id_df[['category_id', 'Product']].values)"
   ]
  },
  {
   "cell_type": "code",
   "execution_count": 39,
   "metadata": {},
   "outputs": [
    {
     "data": {
      "text/plain": [
       "{0: 'Credit reporting, repair, or other',\n",
       " 1: 'Checking or savings account',\n",
       " 2: 'Mortgage',\n",
       " 3: 'Credit card or prepaid card',\n",
       " 4: 'Payday loan, title loan, or personal loan',\n",
       " 5: 'Consumer Loan',\n",
       " 6: 'Debt collection',\n",
       " 7: 'Student loan',\n",
       " 8: 'Money transfers',\n",
       " 9: 'Vehicle loan or lease',\n",
       " 10: 'Bank account or service',\n",
       " 11: 'Money transfer, virtual currency, or money service',\n",
       " 12: 'Other financial service'}"
      ]
     },
     "execution_count": 39,
     "metadata": {},
     "output_type": "execute_result"
    }
   ],
   "source": [
    "id_to_category"
   ]
  },
  {
   "cell_type": "code",
   "execution_count": 40,
   "metadata": {},
   "outputs": [
    {
     "data": {
      "text/html": [
       "<div>\n",
       "<style scoped>\n",
       "    .dataframe tbody tr th:only-of-type {\n",
       "        vertical-align: middle;\n",
       "    }\n",
       "\n",
       "    .dataframe tbody tr th {\n",
       "        vertical-align: top;\n",
       "    }\n",
       "\n",
       "    .dataframe thead th {\n",
       "        text-align: right;\n",
       "    }\n",
       "</style>\n",
       "<table border=\"1\" class=\"dataframe\">\n",
       "  <thead>\n",
       "    <tr style=\"text-align: right;\">\n",
       "      <th></th>\n",
       "      <th>Product</th>\n",
       "      <th>Consumer_complaint</th>\n",
       "      <th>category_id</th>\n",
       "    </tr>\n",
       "  </thead>\n",
       "  <tbody>\n",
       "    <tr>\n",
       "      <th>136923</th>\n",
       "      <td>Credit reporting, repair, or other</td>\n",
       "      <td>there are 8 inquires from XXXX XXXX that I did...</td>\n",
       "      <td>0</td>\n",
       "    </tr>\n",
       "    <tr>\n",
       "      <th>555141</th>\n",
       "      <td>Credit reporting, repair, or other</td>\n",
       "      <td>I have been a victim of Identity Theft since X...</td>\n",
       "      <td>0</td>\n",
       "    </tr>\n",
       "    <tr>\n",
       "      <th>410364</th>\n",
       "      <td>Checking or savings account</td>\n",
       "      <td>UTTERLY disgusted with how Bank of America cho...</td>\n",
       "      <td>1</td>\n",
       "    </tr>\n",
       "    <tr>\n",
       "      <th>515245</th>\n",
       "      <td>Credit reporting, repair, or other</td>\n",
       "      <td>A XXXX XXXX was purchased in XX/XX/XXXX, the c...</td>\n",
       "      <td>0</td>\n",
       "    </tr>\n",
       "    <tr>\n",
       "      <th>632795</th>\n",
       "      <td>Mortgage</td>\n",
       "      <td>XXXX XXXX XXXX, XXXX, GA XXXX. My husband went...</td>\n",
       "      <td>2</td>\n",
       "    </tr>\n",
       "  </tbody>\n",
       "</table>\n",
       "</div>"
      ],
      "text/plain": [
       "                                   Product  \\\n",
       "136923  Credit reporting, repair, or other   \n",
       "555141  Credit reporting, repair, or other   \n",
       "410364         Checking or savings account   \n",
       "515245  Credit reporting, repair, or other   \n",
       "632795                            Mortgage   \n",
       "\n",
       "                                       Consumer_complaint  category_id  \n",
       "136923  there are 8 inquires from XXXX XXXX that I did...            0  \n",
       "555141  I have been a victim of Identity Theft since X...            0  \n",
       "410364  UTTERLY disgusted with how Bank of America cho...            1  \n",
       "515245  A XXXX XXXX was purchased in XX/XX/XXXX, the c...            0  \n",
       "632795  XXXX XXXX XXXX, XXXX, GA XXXX. My husband went...            2  "
      ]
     },
     "execution_count": 40,
     "metadata": {},
     "output_type": "execute_result"
    }
   ],
   "source": [
    "df2.head()"
   ]
  },
  {
   "cell_type": "code",
   "execution_count": 41,
   "metadata": {},
   "outputs": [
    {
     "data": {
      "image/png": "[encoded data removed]",
      "text/plain": [
       "<Figure size 432x288 with 1 Axes>"
      ]
     },
     "metadata": {
      "needs_background": "light"
     },
     "output_type": "display_data"
    }
   ],
   "source": [
    "# Number of complaints for each product category \n",
    "%matplotlib inline\n",
    "df2.groupby('Product').Consumer_complaint.count().sort_values().plot.barh(\n",
    "    ylim=0, title= 'NUMBER OF COMPLAINTS IN EACH PRODUCT CATEGORY\\n')\n",
    "plt.xlabel('Number of ocurrences', fontsize = 10);"
   ]
  },
  {
   "cell_type": "markdown",
   "metadata": {},
   "source": [
    "### Feature engineering from complaint narrative column "
   ]
  },
  {
   "cell_type": "code",
   "execution_count": 42,
   "metadata": {},
   "outputs": [
    {
     "name": "stdout",
     "output_type": "stream",
     "text": [
      "Each of the 10000 complaints is represented by 27593 features (TF-IDF score of unigrams and bigrams)\n"
     ]
    }
   ],
   "source": [
    "# Feature extraction using tf-idf, unigram and bigram \n",
    "# sublinear_tf => scaling on term frequency \n",
    "# min_df => consider only those words, which are present in more than 5% of the documents \n",
    "\n",
    "tfidf = TfidfVectorizer(sublinear_tf=True, min_df=5,\n",
    "                        ngram_range=(1, 2),  # Try uni-gram and bi-gram\n",
    "                        stop_words='english') # Only cleaning step \n",
    "\n",
    "features = tfidf.fit_transform(df2.Consumer_complaint).toarray()\n",
    "\n",
    "labels = df2.category_id\n",
    "\n",
    "print(\"Each of the %d complaints is represented by %d features (TF-IDF score of unigrams and bigrams)\" %(features.shape))"
   ]
  },
  {
   "cell_type": "code",
   "execution_count": null,
   "metadata": {},
   "outputs": [],
   "source": [
    "# P greater than N scenario "
   ]
  },
  {
   "cell_type": "code",
   "execution_count": 43,
   "metadata": {},
   "outputs": [],
   "source": [
    "X_train, X_test, y_train, y_test,indices_train,indices_test = train_test_split(features, \n",
    "                                                               labels, \n",
    "                                                               df2.index, test_size=0.25, \n",
    "                                                               random_state=1)"
   ]
  },
  {
   "cell_type": "code",
   "execution_count": 44,
   "metadata": {},
   "outputs": [
    {
     "data": {
      "text/plain": [
       "LinearSVC()"
      ]
     },
     "execution_count": 44,
     "metadata": {},
     "output_type": "execute_result"
    }
   ],
   "source": [
    "# Support Vector classifier initialization and fit \n",
    "model = LinearSVC()  \n",
    "model.fit(X_train, y_train)"
   ]
  },
  {
   "cell_type": "code",
   "execution_count": 45,
   "metadata": {},
   "outputs": [],
   "source": [
    "# Prediction on train dataset\n",
    "Train_pred = model.predict(X_train)"
   ]
  },
  {
   "cell_type": "code",
   "execution_count": 46,
   "metadata": {},
   "outputs": [
    {
     "data": {
      "text/plain": [
       "array([5, 6, 9, ..., 0, 2, 0], dtype=int64)"
      ]
     },
     "execution_count": 46,
     "metadata": {},
     "output_type": "execute_result"
    }
   ],
   "source": [
    "Train_pred"
   ]
  },
  {
   "cell_type": "code",
   "execution_count": 47,
   "metadata": {
    "scrolled": true
   },
   "outputs": [
    {
     "name": "stdout",
     "output_type": "stream",
     "text": [
      "[[2556    0    0    1    0    0    3    1    0    0    0    0    0]\n",
      " [   0  282    0    0    0    0    0    0    0    0    0    0    0]\n",
      " [   2    0  976    0    0    0    0    0    0    0    0    0    0]\n",
      " [   5    0    0  792    0    0    0    0    0    0    0    0    0]\n",
      " [   1    0    0    0  122    0    0    0    0    0    0    0    0]\n",
      " [   3    0    0    0    0  170    0    0    0    0    0    0    0]\n",
      " [   4    0    1    0    0    0 1619    1    0    0    0    0    0]\n",
      " [   1    0    0    0    0    0    0  420    0    0    0    0    0]\n",
      " [   0    0    0    0    0    0    0    0   24    0    0    0    0]\n",
      " [   0    0    0    0    0    0    0    0    0  115    0    0    0]\n",
      " [   0    0    0    0    0    0    0    0    0    0  267    0    0]\n",
      " [   0    0    0    0    0    0    0    0    0    0    0  127    0]\n",
      " [   0    0    0    0    0    0    0    0    0    0    0    0    7]]\n"
     ]
    }
   ],
   "source": [
    "# To check how well the model is ding \n",
    "print(confusion_matrix(y_train,Train_pred))"
   ]
  },
  {
   "cell_type": "code",
   "execution_count": 48,
   "metadata": {},
   "outputs": [
    {
     "data": {
      "text/plain": [
       "0.9969333333333333"
      ]
     },
     "execution_count": 48,
     "metadata": {},
     "output_type": "execute_result"
    }
   ],
   "source": [
    "from sklearn.metrics import accuracy_score\n",
    "accuracy_score(y_train,Train_pred)  "
   ]
  },
  {
   "cell_type": "code",
   "execution_count": 49,
   "metadata": {},
   "outputs": [],
   "source": [
    "# Prediction on test data set\n",
    "y_pred = model.predict(X_test)"
   ]
  },
  {
   "cell_type": "code",
   "execution_count": 50,
   "metadata": {
    "scrolled": false
   },
   "outputs": [
    {
     "name": "stdout",
     "output_type": "stream",
     "text": [
      "[[693   2  15  23   1   3  67   7   0   1   2   0   0]\n",
      " [  7  35   1  12   0   0   0   0   0   0  18   1   0]\n",
      " [  6   0 316   3   0   0  10   0   0   0   1   0   0]\n",
      " [ 29   4   3 169   0   0  16   2   0   1   4   0   0]\n",
      " [  7   1   7   1  10   1  11   3   0   0   1   0   0]\n",
      " [ 16   1   4   2   1  19  11   3   0   5   0   0   0]\n",
      " [ 80   3  13  14   4   2 472   8   0   2   0   0   0]\n",
      " [ 13   0   1   1   0   0   8 118   0   0   0   0   0]\n",
      " [  0   0   1   3   0   0   3   0   0   0   1   5   0]\n",
      " [ 10   1   0   2   0   6   8   1   0  11   2   0   0]\n",
      " [  8  23   8  18   0   0   8   0   1   0  33   5   0]\n",
      " [  3   8   1   3   0   0   1   0   0   0   0  30   0]\n",
      " [  0   0   0   0   0   0   0   1   0   0   0   0   0]]\n"
     ]
    }
   ],
   "source": [
    "print(confusion_matrix(y_test,y_pred))"
   ]
  },
  {
   "cell_type": "code",
   "execution_count": 51,
   "metadata": {},
   "outputs": [
    {
     "data": {
      "text/plain": [
       "0.7624"
      ]
     },
     "execution_count": 51,
     "metadata": {},
     "output_type": "execute_result"
    }
   ],
   "source": [
    "accuracy_score(y_test,y_pred)"
   ]
  },
  {
   "cell_type": "code",
   "execution_count": 52,
   "metadata": {},
   "outputs": [
    {
     "data": {
      "image/png": "[encoded data removed]",
      "text/plain": [
       "<Figure size 576x576 with 2 Axes>"
      ]
     },
     "metadata": {
      "needs_background": "light"
     },
     "output_type": "display_data"
    }
   ],
   "source": [
    "import seaborn as sns\n",
    "%matplotlib inline\n",
    "conf_mat = confusion_matrix(y_test, y_pred)\n",
    "fig, ax = plt.subplots(figsize=(8,8))\n",
    "sns.heatmap(conf_mat, annot=True, cmap=\"Blues\", fmt='d',\n",
    "            xticklabels=category_id_df.Product.values, \n",
    "            yticklabels=category_id_df.Product.values)\n",
    "plt.ylabel('Actual')\n",
    "plt.xlabel('Predicted')\n",
    "plt.title(\"CONFUSION MATRIX \\n\", size=16);"
   ]
  },
  {
   "cell_type": "code",
   "execution_count": 53,
   "metadata": {},
   "outputs": [],
   "source": [
    "X = df2.Consumer_complaint\n",
    "y = df2.Product"
   ]
  },
  {
   "cell_type": "code",
   "execution_count": 54,
   "metadata": {},
   "outputs": [],
   "source": [
    "X_train, X_test, y_train, y_test = train_test_split(X, y, \n",
    "                                                    test_size=0.25,\n",
    "                                                    random_state = 0)\n",
    "\n",
    "tfidf = TfidfVectorizer(sublinear_tf=True, min_df=5,\n",
    "                        ngram_range=(1, 2), \n",
    "                        stop_words='english')\n",
    "\n",
    "fitted_vectorizer = tfidf.fit(X_train)\n",
    "tfidf_vectorizer_vectors = fitted_vectorizer.transform(X_train)\n",
    "\n",
    "model = LinearSVC().fit(tfidf_vectorizer_vectors, y_train)"
   ]
  },
  {
   "cell_type": "markdown",
   "metadata": {},
   "source": [
    "### Evaluation of model on some random complaint"
   ]
  },
  {
   "cell_type": "code",
   "execution_count": 55,
   "metadata": {},
   "outputs": [
    {
     "name": "stdout",
     "output_type": "stream",
     "text": [
      "['Student loan']\n"
     ]
    }
   ],
   "source": [
    "new_complaint = \"\"\"I have been enrolled back at XXXX XXXX University in the XX/XX/XXXX. Recently, i have been harassed by \\\n",
    "Navient for the last month. I have faxed in paperwork providing them with everything they needed. And yet I am still getting \\\n",
    "phone calls for payments. Furthermore, Navient is now reporting to the credit bureaus that I am late. At this point, \\\n",
    "Navient needs to get their act together to avoid me taking further action. I have been enrolled the entire time and my \\\n",
    "deferment should be valid with my planned graduation date being the XX/XX/XXXX.\"\"\"\n",
    "print(model.predict(fitted_vectorizer.transform([new_complaint])))"
   ]
  },
  {
   "cell_type": "code",
   "execution_count": 56,
   "metadata": {},
   "outputs": [
    {
     "name": "stdout",
     "output_type": "stream",
     "text": [
      "['Credit reporting, repair, or other']\n"
     ]
    }
   ],
   "source": [
    "new_complaint_2 = \"\"\"Equifax exposed my personal information without my consent, as part of their recent data breach. \\\n",
    "In addition, they dragged their feet in the announcement of the report, and even allowed their upper management to sell \\\n",
    "off stock before the announcement.\"\"\"\n",
    "print(model.predict(fitted_vectorizer.transform([new_complaint_2])))"
   ]
  },
  {
   "cell_type": "markdown",
   "metadata": {},
   "source": [
    "### Grid Search for hyper parameter tuning "
   ]
  },
  {
   "cell_type": "code",
   "execution_count": null,
   "metadata": {},
   "outputs": [],
   "source": [
    "params_grid = [{'kernel': ['rbf'], 'gamma': [1e-3, 1e-4],\n",
    "                     'C': [1, 10, 100, 1000]},\n",
    "                    {'kernel': ['linear'], 'C': [1, 10, 100, 1000]}]\n",
    "\n",
    "# Kernel - rbf, gamma = 0.001 & C =1 \n",
    "# Kernel - rbf, gamma = 0.001 & C =10\n",
    "# Kernel - rbf, gamma = 0.001 & C =100 \n",
    "# Kernel - rbf, gamma = 0.001 & C =1000\n",
    "# Kernel - rbf, gamma = 0.0001 & C =1 \n",
    "# Kernel - rbf, gamma = 0.0001 & C =10\n",
    "# Kernel - rbf, gamma = 0.0001 & C =100 \n",
    "# Kernel - rbf, gamma = 0.0001 & C =1000\n",
    "# Kernel - linear ( no need to provide gamma), C = 1\n",
    "# Kerner - linear , C = 10 \n",
    "# Kernel - linear , c = 100\n",
    "# Kerner - linear , C = 1000"
   ]
  },
  {
   "cell_type": "code",
   "execution_count": 57,
   "metadata": {},
   "outputs": [],
   "source": [
    "# Using RBF and Linear as my kernel function \n",
    "\n",
    "params_grid = [{'kernel': ['rbf'], 'gamma': [1e-3, 1e-4],\n",
    "                     'C': [1, 10,]},\n",
    "                    {'kernel': ['linear'], 'C': [1, 10]}]"
   ]
  },
  {
   "cell_type": "code",
   "execution_count": null,
   "metadata": {},
   "outputs": [],
   "source": [
    "# Multiple combinations of hyperparameters \n",
    "# Building a model with \n",
    "\n",
    "# Kernel - rbf, gamma = 0.001 & C =1 \n",
    "# Kernel - rbf, gamma = 0.001 & C =10\n",
    "# Kernel - rbf, gamma = 0.0001 & C =1 \n",
    "# Kernel - rbf, gamma = 0.0001 & C =10 \n",
    "# Kernel - linear ( no need to provide gamma), C = 1\n",
    "# Kerner - linear , C = 10 "
   ]
  },
  {
   "cell_type": "code",
   "execution_count": 58,
   "metadata": {},
   "outputs": [],
   "source": [
    "from sklearn.model_selection import cross_val_score, GridSearchCV\n",
    "from sklearn.svm import SVC"
   ]
  },
  {
   "cell_type": "code",
   "execution_count": null,
   "metadata": {},
   "outputs": [],
   "source": [
    "svm_model  = GridSearchCV(SVC(), params_grid, cv=5)\n",
    "svm_model1 = svm_model.fit(tfidf_vectorizer_vectors, y_train)"
   ]
  },
  {
   "cell_type": "code",
   "execution_count": null,
   "metadata": {},
   "outputs": [],
   "source": [
    "print(svm_model1.best_score_)   # Among all the iterations, what was the score of best model\n",
    "print(svm_model1.best_params_)  # The combination of hyper parameters used in the best model "
   ]
  },
  {
   "cell_type": "code",
   "execution_count": null,
   "metadata": {},
   "outputs": [],
   "source": []
  }
 ],
 "metadata": {
  "anaconda-cloud": {},
  "kernelspec": {
   "display_name": "Python 3",
   "language": "python",
   "name": "python3"
  },
  "language_info": {
   "codemirror_mode": {
    "name": "ipython",
    "version": 3
   },
   "file_extension": ".py",
   "mimetype": "text/x-python",
   "name": "python",
   "nbconvert_exporter": "python",
   "pygments_lexer": "ipython3",
   "version": "3.8.8"
  }
 },
 "nbformat": 4,
 "nbformat_minor": 2
}
